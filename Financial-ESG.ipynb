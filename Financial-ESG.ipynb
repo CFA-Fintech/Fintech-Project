{
 "cells": [
  {
   "cell_type": "markdown",
   "metadata": {},
   "source": [
    "# Financial Modeling with ESG Data\n",
    "Pulling company financials from the FMP API and generating financial analysis beyond Stock Pricing."
   ]
  },
  {
   "cell_type": "code",
   "execution_count": 7,
   "metadata": {},
   "outputs": [
    {
     "data": {
      "text/plain": [
       "str"
      ]
     },
     "execution_count": 7,
     "metadata": {},
     "output_type": "execute_result"
    }
   ],
   "source": [
    "import pandas as pd\n",
    "import requests\n",
    "from dotenv import load_dotenv\n",
    "import os\n",
    "from bs4 import BeautifulSoup\n",
    "import ipywidgets as widgets\n",
    "from ipywidgets import interact\n",
    "import yfinance as yf\n",
    "load_dotenv()\n",
    "api_key = os.getenv(\"fmp\")\n",
    "type(api_key)"
   ]
  },
  {
   "cell_type": "code",
   "execution_count": 8,
   "metadata": {},
   "outputs": [],
   "source": [
    "#Function that returns income statement data\n",
    "def get_data2(stock):\n",
    "    data = requests.get(f\"https://financialmodelingprep.com/api/v3/income-statement/{stock}?period=quarter&limit=400&apikey=FINANCIAL_API_KEY\")\n",
    "\n",
    "    data = data.json()\n",
    "# Pull data from the previous for quarters. The 0 refers to the most # previous quarter etc. \n",
    "    data = data[0:5]\n",
    "    \n",
    "    return data"
   ]
  },
  {
   "cell_type": "code",
   "execution_count": 9,
   "metadata": {},
   "outputs": [],
   "source": [
    "def get_tickers():\n",
    "    wiki_page = requests.get('https://en.wikipedia.org/wiki/List_of_S%26P_500_companies').text\n",
    "    sp_data = pd.read_html(wiki_page)\n",
    "    ticker_df = sp_data[0]\n",
    "    ticker_options = ticker_df['Symbol']\n",
    "    return ticker_options"
   ]
  },
  {
   "cell_type": "code",
   "execution_count": 10,
   "metadata": {},
   "outputs": [
    {
     "data": {
      "text/plain": [
       "0        MMM\n",
       "1        AOS\n",
       "2        ABT\n",
       "3       ABBV\n",
       "4        ACN\n",
       "5       ATVI\n",
       "6        AYI\n",
       "7       ADBE\n",
       "8        AAP\n",
       "9        AMD\n",
       "10       AES\n",
       "11       AET\n",
       "12       AMG\n",
       "13       AFL\n",
       "14         A\n",
       "15       APD\n",
       "16      AKAM\n",
       "17       ALK\n",
       "18       ALB\n",
       "19       ARE\n",
       "20      ALXN\n",
       "21      ALGN\n",
       "22      ALLE\n",
       "23       AGN\n",
       "24       ADS\n",
       "25       LNT\n",
       "26       ALL\n",
       "27     GOOGL\n",
       "28      GOOG\n",
       "29        MO\n",
       "       ...  \n",
       "475     VRTX\n",
       "476     VIAB\n",
       "477        V\n",
       "478      VNO\n",
       "479      VMC\n",
       "480      WMT\n",
       "481      WBA\n",
       "482       WM\n",
       "483      WAT\n",
       "484      WEC\n",
       "485      WFC\n",
       "486      HCN\n",
       "487      WDC\n",
       "488       WU\n",
       "489      WRK\n",
       "490       WY\n",
       "491      WHR\n",
       "492      WMB\n",
       "493     WLTW\n",
       "494      WYN\n",
       "495     WYNN\n",
       "496      XEL\n",
       "497      XRX\n",
       "498     XLNX\n",
       "499       XL\n",
       "500      XYL\n",
       "501      YUM\n",
       "502      ZBH\n",
       "503     ZION\n",
       "504      ZTS\n",
       "Name: Symbol, Length: 505, dtype: object"
      ]
     },
     "execution_count": 10,
     "metadata": {},
     "output_type": "execute_result"
    }
   ],
   "source": [
    "esg_data = pd.read_csv('Resources/ticker_data.csv')\n",
    "ticker = esg_data['Symbol']\n",
    "ticker"
   ]
  },
  {
   "cell_type": "markdown",
   "metadata": {},
   "source": [
    "## Create data frame with esg info for stocks in csv"
   ]
  },
  {
   "cell_type": "code",
   "execution_count": 11,
   "metadata": {},
   "outputs": [],
   "source": [
    "def web_scraper(ticker):\n",
    "    elements = []\n",
    "    web_data = requests.get('https://finance.yahoo.com/quote/'+ticker+'/sustainability?p='+ticker).text\n",
    "    soup = BeautifulSoup(web_data, 'html.parser')\n",
    "    esg_score = soup.find('div', {'class':'Fz(36px) Fw(600) D(ib) Mend(5px)'})\n",
    "    datapoint = esg_score.text\n",
    "    controversy_score = soup.find('div', {'class':'D(ib) Fz(36px) Fw(500)'})\n",
    "    controversyz_datapoint = controversy_score.text\n",
    "    scores = soup.find_all('div',{'class': 'D(ib) Fz(23px) smartphone_Fz(22px) Fw(600)'})\n",
    "    for score in scores:\n",
    "            elements.append(score.text)\n",
    "            \n",
    "    df = pd.DataFrame({'Total ESG Score': datapoint,\n",
    "                   'Environment Score': elements[0],\n",
    "                   'Social Score': elements[1],\n",
    "                   'Governance Score': elements[2],\n",
    "                   'Controversy Score': controversy_datapoint},index=[ticker])\n",
    "    df = df.astype('float')\t\n",
    "    df['Controversy Assessment'] = df.apply(lambda x: level(x['Controversy Score']), axis=1)\n",
    "    return df\n",
    "\n",
    "#print(web_data)"
   ]
  },
  {
   "cell_type": "code",
   "execution_count": 6,
   "metadata": {},
   "outputs": [
    {
     "ename": "NameError",
     "evalue": "name 'soup' is not defined",
     "output_type": "error",
     "traceback": [
      "\u001b[1;31m---------------------------------------------------------------------------\u001b[0m",
      "\u001b[1;31mNameError\u001b[0m                                 Traceback (most recent call last)",
      "\u001b[1;32m<ipython-input-6-3bfcc2cba10b>\u001b[0m in \u001b[0;36m<module>\u001b[1;34m\u001b[0m\n\u001b[1;32m----> 1\u001b[1;33m \u001b[0mcontroversy_score\u001b[0m \u001b[1;33m=\u001b[0m \u001b[0msoup\u001b[0m\u001b[1;33m.\u001b[0m\u001b[0mfind\u001b[0m\u001b[1;33m(\u001b[0m\u001b[1;34m'div'\u001b[0m\u001b[1;33m,\u001b[0m \u001b[1;33m{\u001b[0m\u001b[1;34m'class'\u001b[0m\u001b[1;33m:\u001b[0m\u001b[1;34m'D(ib) Fz(36px) Fw(500)'\u001b[0m\u001b[1;33m}\u001b[0m\u001b[1;33m)\u001b[0m\u001b[1;33m\u001b[0m\u001b[1;33m\u001b[0m\u001b[0m\n\u001b[0m\u001b[0;32m      2\u001b[0m \u001b[0mcontroversy_datapoint\u001b[0m \u001b[1;33m=\u001b[0m \u001b[0mcontroversy_score\u001b[0m\u001b[1;33m.\u001b[0m\u001b[0mtext\u001b[0m\u001b[1;33m\u001b[0m\u001b[1;33m\u001b[0m\u001b[0m\n\u001b[0;32m      3\u001b[0m df = pd.DataFrame({'Total ESG Score': datapoint,\n\u001b[0;32m      4\u001b[0m                    \u001b[1;34m'Environment Score'\u001b[0m\u001b[1;33m:\u001b[0m \u001b[0melements\u001b[0m\u001b[1;33m[\u001b[0m\u001b[1;36m0\u001b[0m\u001b[1;33m]\u001b[0m\u001b[1;33m,\u001b[0m\u001b[1;33m\u001b[0m\u001b[1;33m\u001b[0m\u001b[0m\n\u001b[0;32m      5\u001b[0m                    \u001b[1;34m'Social Score'\u001b[0m\u001b[1;33m:\u001b[0m \u001b[0melements\u001b[0m\u001b[1;33m[\u001b[0m\u001b[1;36m1\u001b[0m\u001b[1;33m]\u001b[0m\u001b[1;33m,\u001b[0m\u001b[1;33m\u001b[0m\u001b[1;33m\u001b[0m\u001b[0m\n",
      "\u001b[1;31mNameError\u001b[0m: name 'soup' is not defined"
     ]
    }
   ],
   "source": [
    "controversy_score = soup.find('div', {'class':'D(ib) Fz(36px) Fw(500)'})\n",
    "controversy_datapoint = controversy_score.text\n",
    "df = pd.DataFrame({'Total ESG Score': datapoint,\n",
    "                   'Environment Score': elements[0],\n",
    "                   'Social Score': elements[1],\n",
    "                   'Governance Score': elements[2],\n",
    "                   'Controversy Score': controversy_datapoint},\n",
    "                  index=['ticker'])\n",
    "df"
   ]
  },
  {
   "cell_type": "code",
   "execution_count": null,
   "metadata": {},
   "outputs": [],
   "source": []
  },
  {
   "cell_type": "code",
   "execution_count": null,
   "metadata": {},
   "outputs": [],
   "source": []
  },
  {
   "cell_type": "markdown",
   "metadata": {},
   "source": [
    "### Use Financial Modeling Prep API to gather financial data on companies listed in ESG search\n",
    "#### -revenue, \n",
    "#### -net income, \n",
    "#### -earning per share growth, and \n",
    "#### -EBITDA growth."
   ]
  },
  {
   "cell_type": "code",
   "execution_count": null,
   "metadata": {},
   "outputs": [],
   "source": [
    " def growth(stock):\n",
    "    #call the get_data2 function and store the results in a variable, data 2.\n",
    "    data = get_data2(stock)\n",
    "    \n",
    "    #revenue growth\n",
    "    rev_new = data[0]['revenue']\n",
    "    rev_old = data[-1]['revenue']\n",
    "    rev_change = 100*((rev_new-rev_old)/rev_old)\n",
    "    #net income growth\n",
    "    income_new = data[0]['netIncome']\n",
    "    income_old = data[-1]['netIncome']\n",
    "    income_change = 100*((income_new-income_old)/income_old)\n",
    "    \n",
    "    #EPS growth\n",
    "    eps_new = data[0]['eps']\n",
    "    eps_old = data[-1]['eps']\n",
    "    eps_change = 100*((eps_new-eps_old)/eps_old)\n",
    "    \n",
    "    #EBITA\n",
    "    ebitda_new = data[0]['ebitda']\n",
    "    ebitda_old = data[-1]['ebitda']\n",
    "    ebitda_change = 100*((ebitda_new-ebitda_old)/ebitda_old)\n",
    "    \n",
    "    return (rev_change, income_change, eps_change, ebitda_change)\n"
   ]
  },
  {
   "cell_type": "code",
   "execution_count": null,
   "metadata": {},
   "outputs": [],
   "source": [
    "stocks = [ticker]\n",
    "\n",
    "#store financials in a variable, data.\n",
    "data = map(growth, stocks)\n",
    "\n",
    "# populate DataFrame with data variable and create columns:\n",
    "df = pd.DataFrame(data, columns=['Rev_Growth', 'Income_Growth', 'EPS_Growth', 'ebitda_Growth'], index=stocks)\n",
    "df.reset_index(inplace=True)\n",
    "df.rename(columns={'index': 'Symbol'}, inplace=True)\n",
    "\n",
    "#display output\n",
    "df"
   ]
  },
  {
   "cell_type": "code",
   "execution_count": null,
   "metadata": {},
   "outputs": [],
   "source": [
    "def dcf(stock):\n",
    "    data = requests.get(f\"https://financialmodelingprep.com/api/v3/discounted-cash-flow/{stock}?apikey=FINANCIAL_API_KEY\")\n",
    "    data = data.json()\n",
    "    dcf = data[0]['dcf']\n",
    "    current_price = data[0]['Stock Price']\n",
    "    return (dcf, current_price)"
   ]
  },
  {
   "cell_type": "code",
   "execution_count": null,
   "metadata": {},
   "outputs": [],
   "source": [
    "stocks = ['PTON', 'MSFT', 'AAPL', 'AMD']\n",
    "data = map(dcf, stocks)\n",
    "df = pd.DataFrame(data, columns=['dcf', 'current price'], index=stocks)\n",
    "df.reset_index(inplace=True)\n",
    "df.rename(columns={'index': 'symbol'}, inplace=True)\n",
    "#Create a column that indicates under or over-valued\n",
    "df['value'] = df.apply(lambda x: 'Under-valued' if x['dcf']>x['current price'] else 'Over-valued',axis=1)\n",
    "#display results\n",
    "df"
   ]
  }
 ],
 "metadata": {
  "kernelspec": {
   "display_name": "Python 3",
   "language": "python",
   "name": "python3"
  },
  "language_info": {
   "codemirror_mode": {
    "name": "ipython",
    "version": 3
   },
   "file_extension": ".py",
   "mimetype": "text/x-python",
   "name": "python",
   "nbconvert_exporter": "python",
   "pygments_lexer": "ipython3",
   "version": "3.7.7"
  }
 },
 "nbformat": 4,
 "nbformat_minor": 4
}
