{
 "cells": [
  {
   "cell_type": "code",
   "execution_count": 1,
   "metadata": {},
   "outputs": [],
   "source": [
    "import pandas as pd\n",
    "import requests\n",
    "#Function that returns income statement data\n",
    "def get_data2(stock):\n",
    "    data = requests.get(f\"https://financialmodelingprep.com/api/v3/income-statement/{stock}?period=quarter&limit=400&apikey=FINANCIAL_API_KEY\")\n",
    "\n",
    "    data = data.json()\n",
    "# Pull data from the previous for quarters. The 0 refers to the most # previous quarter etc. \n",
    "    data = data[0:5]\n",
    "    \n",
    "    return data"
   ]
  },
  {
   "cell_type": "code",
   "execution_count": 2,
   "metadata": {},
   "outputs": [],
   "source": [
    " def growth(stock):\n",
    "    #call the get_data2 function and store the results in a       #variable, data 2.\n",
    "    data = get_data2(stock)\n",
    "    \n",
    "    #revenue growth\n",
    "    rev_new = data[0]['revenue']\n",
    "    rev_old = data[-1]['revenue']\n",
    "    rev_change = 100*((rev_new-rev_old)/rev_old)\n",
    "    #net income growth\n",
    "    income_new = data[0]['netIncome']\n",
    "    income_old = data[-1]['netIncome']\n",
    "    income_change = 100*((income_new-income_old)/income_old)\n",
    "    \n",
    "    #EPS growth\n",
    "    eps_new = data[0]['eps']\n",
    "    eps_old = data[-1]['eps']\n",
    "    eps_change = 100*((eps_new-eps_old)/eps_old)\n",
    "    \n",
    "    #EBITA\n",
    "    ebitda_new = data[0]['ebitda']\n",
    "    ebitda_old = data[-1]['ebitda']\n",
    "    ebitda_change = 100*((ebitda_new-ebitda_old)/ebitda_old)\n",
    "    \n",
    "    return (rev_change, income_change, eps_change, ebitda_change)\n"
   ]
  },
  {
   "cell_type": "code",
   "execution_count": null,
   "metadata": {},
   "outputs": [],
   "source": [
    "stocks = ['PTON', 'MSFT', 'AAPL', 'AMD']\n",
    "#store financials in a variable, data.\n",
    "data = map(growth, stocks)\n",
    "# populate DataFrame with data variable and create columns:\n",
    "df = pd.DataFrame(data, columns=['Rev_Growth', 'Income_Growth', 'EPS_Growth', 'ebitda_Growth'], index=stocks)\n",
    "df.reset_index(inplace=True)\n",
    "df.rename(columns={'index': 'Symbol'}, inplace=True)\n",
    "#display output\n",
    "df"
   ]
  },
  {
   "cell_type": "code",
   "execution_count": null,
   "metadata": {},
   "outputs": [],
   "source": [
    "def dcf(stock):\n",
    "    data = requests.get(f\"https://financialmodelingprep.com/api/v3/discounted-cash-flow/{stock}?apikey=FINANCIAL_API_KEY\")\n",
    "    data = data.json()\n",
    "    dcf = data[0]['dcf']\n",
    "    current_price = data[0]['Stock Price']\n",
    "    return (dcf, current_price)"
   ]
  },
  {
   "cell_type": "code",
   "execution_count": null,
   "metadata": {},
   "outputs": [],
   "source": [
    "stocks = ['PTON', 'MSFT', 'AAPL', 'AMD']\n",
    "data = map(dcf, stocks)\n",
    "df = pd.DataFrame(data, columns=['dcf', 'current price'], index=stocks)\n",
    "df.reset_index(inplace=True)\n",
    "df.rename(columns={'index': 'symbol'}, inplace=True)\n",
    "#Create a column that indicates under or over-valued\n",
    "df['value'] = df.apply(lambda x: 'Under-valued' if x['dcf']>x['current price'] else 'Over-valued',axis=1)\n",
    "#display results\n",
    "df"
   ]
  }
 ],
 "metadata": {
  "kernelspec": {
   "display_name": "Python 3",
   "language": "python",
   "name": "python3"
  },
  "language_info": {
   "codemirror_mode": {
    "name": "ipython",
    "version": 3
   },
   "file_extension": ".py",
   "mimetype": "text/x-python",
   "name": "python",
   "nbconvert_exporter": "python",
   "pygments_lexer": "ipython3",
   "version": "3.8.3"
  }
 },
 "nbformat": 4,
 "nbformat_minor": 4
}
