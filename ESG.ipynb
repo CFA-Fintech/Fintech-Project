{
 "cells": [
  {
   "cell_type": "code",
   "execution_count": 1,
   "metadata": {},
   "outputs": [],
   "source": [
    "from bs4 import BeautifulSoup\n",
    "import pandas as pd\n",
    "import requests\n",
    "import ipywidgets as widgets\n",
    "from ipywidgets import interact\n",
    "\n"
   ]
  },
  {
   "cell_type": "code",
   "execution_count": 2,
   "metadata": {},
   "outputs": [
    {
     "name": "stdout",
     "output_type": "stream",
     "text": [
      "Success\n",
      "<div class=\"Fz(36px) Fw(600) D(ib) Mend(5px)\" data-reactid=\"20\">15</div>\n"
     ]
    }
   ],
   "source": [
    "try:\n",
    "    web_data = requests.get('https://finance.yahoo.com/quote/MSFT/sustainability?p=MSFT').text\n",
    "    print(\"Success\")\n",
    "except:\n",
    "    print(\"Could not get URL\")\n",
    "soup = BeautifulSoup(web_data, 'html.parser')\n",
    "esg_score = soup.find('div', {'class':'Fz(36px) Fw(600) D(ib) Mend(5px)'})\n",
    "print(esg_score)\n",
    "#print(web_data)"
   ]
  },
  {
   "cell_type": "code",
   "execution_count": 3,
   "metadata": {},
   "outputs": [
    {
     "data": {
      "text/plain": [
       "'15'"
      ]
     },
     "execution_count": 3,
     "metadata": {},
     "output_type": "execute_result"
    }
   ],
   "source": [
    "datapoint = esg_score.text\n",
    "datapoint"
   ]
  },
  {
   "cell_type": "code",
   "execution_count": 4,
   "metadata": {},
   "outputs": [
    {
     "data": {
      "text/plain": [
       "['0.5', '9.4', '5.1']"
      ]
     },
     "execution_count": 4,
     "metadata": {},
     "output_type": "execute_result"
    }
   ],
   "source": [
    "elements =[]\n",
    "scores = soup.find_all('div', {'class': 'D(ib) Fz(23px) smartphone_Fz(22px) Fw(600)'})\n",
    "for score in scores:\n",
    "    elements.append(score.text)\n",
    "elements"
   ]
  },
  {
   "cell_type": "code",
   "execution_count": 5,
   "metadata": {},
   "outputs": [],
   "source": [
    "controversy_score = soup.find('div', {'class':'D(ib) Fz(36px) Fw(500)'})\n",
    "controversy_datapoint = controversy_score.text\n"
   ]
  },
  {
   "cell_type": "code",
   "execution_count": 6,
   "metadata": {},
   "outputs": [
    {
     "data": {
      "text/html": [
       "<div>\n",
       "<style scoped>\n",
       "    .dataframe tbody tr th:only-of-type {\n",
       "        vertical-align: middle;\n",
       "    }\n",
       "\n",
       "    .dataframe tbody tr th {\n",
       "        vertical-align: top;\n",
       "    }\n",
       "\n",
       "    .dataframe thead th {\n",
       "        text-align: right;\n",
       "    }\n",
       "</style>\n",
       "<table border=\"1\" class=\"dataframe\">\n",
       "  <thead>\n",
       "    <tr style=\"text-align: right;\">\n",
       "      <th></th>\n",
       "      <th>Total ESG Score</th>\n",
       "      <th>Environment Score</th>\n",
       "      <th>Social Score</th>\n",
       "      <th>Governance Score</th>\n",
       "      <th>Controversy Score</th>\n",
       "    </tr>\n",
       "  </thead>\n",
       "  <tbody>\n",
       "    <tr>\n",
       "      <th>MSFT</th>\n",
       "      <td>15</td>\n",
       "      <td>0.5</td>\n",
       "      <td>9.4</td>\n",
       "      <td>5.1</td>\n",
       "      <td>3</td>\n",
       "    </tr>\n",
       "  </tbody>\n",
       "</table>\n",
       "</div>"
      ],
      "text/plain": [
       "     Total ESG Score Environment Score Social Score Governance Score  \\\n",
       "MSFT              15               0.5          9.4              5.1   \n",
       "\n",
       "     Controversy Score  \n",
       "MSFT                 3  "
      ]
     },
     "execution_count": 6,
     "metadata": {},
     "output_type": "execute_result"
    }
   ],
   "source": [
    "df = pd.DataFrame({'Total ESG Score': datapoint,\n",
    "                   'Environment Score': elements[0],\n",
    "                   'Social Score': elements[1],\n",
    "                   'Governance Score': elements[2],\n",
    "                   'Controversy Score': controversy_datapoint},\n",
    "                  index=['MSFT'])\n",
    "df"
   ]
  },
  {
   "cell_type": "code",
   "execution_count": 7,
   "metadata": {},
   "outputs": [],
   "source": [
    "def get_tickers():\n",
    "    wiki_page = requests.get('https://en.wikipedia.org/wiki/List_of_S%26P_500_companies').text\n",
    "    sp_data = pd.read_html(wiki_page)\n",
    "    ticker_df = sp_data[0]\n",
    "    ticker_options = ticker_df['Symbol']\n",
    "    return ticker_options\n"
   ]
  },
  {
   "cell_type": "code",
   "execution_count": 8,
   "metadata": {},
   "outputs": [],
   "source": [
    "def web_scraper(ticker):\n",
    "    elements = []\n",
    "    web_data = requests.get('https://finance.yahoo.com/quote/'+ticker+'/sustainability?p='+ticker).text\n",
    "    soup = BeautifulSoup(web_data, 'html.parser')\n",
    "    esg_score = soup.find('div', {'class':'Fz(36px) Fw(600) D(ib) Mend(5px)'})\n",
    "    datapoint = esg_score.text\n",
    "    controversy_score = soup.find('div', {'class':'D(ib) Fz(36px) Fw(500)'})\n",
    "    controversyz_datapoint = controversy_score.text\n",
    "    scores = soup.find_all('div',{'class': 'D(ib) Fz(23px) smartphone_Fz(22px) Fw(600)'})\n",
    "    for score in scores:\n",
    "            elements.append(score.text)\n",
    "            \n",
    "    df = pd.DataFrame({'Total ESG Score': datapoint,\n",
    "                   'Environment Score': elements[0],\n",
    "                   'Social Score': elements[1],\n",
    "                   'Governance Score': elements[2],\n",
    "                   'Controversy Score': controversy_datapoint},\n",
    "    index=[ticker])\n",
    "    df = df.astype('float')\t\n",
    "    df['Controversy Assessment'] = df.apply(lambda x: level(x['Controversy Score']), axis=1)\n",
    "    return df"
   ]
  },
  {
   "cell_type": "code",
   "execution_count": 9,
   "metadata": {},
   "outputs": [],
   "source": [
    "def level(x):\n",
    "    if x == 0.0:\n",
    "        return 'No Controversy'\n",
    "    elif x == 1.0:\n",
    "        return 'Little Controversy'\n",
    "    elif x == 2.0:\n",
    "        return 'Relatively High Controversy'\n",
    "    else: \n",
    "        return 'Severe Controversy'\n"
   ]
  },
  {
   "cell_type": "code",
   "execution_count": 10,
   "metadata": {},
   "outputs": [
    {
     "data": {
      "application/vnd.jupyter.widget-view+json": {
       "model_id": "df13fe14e2cb45809d84c3554e01751e",
       "version_major": 2,
       "version_minor": 0
      },
      "text/plain": [
       "interactive(children=(Dropdown(description='Ticker', index=198, options=('MMM', 'ABT', 'ABBV', 'ABMD', 'ACN', …"
      ]
     },
     "metadata": {},
     "output_type": "display_data"
    }
   ],
   "source": [
    "@interact\n",
    "def get_esg(ticker=widgets.Dropdown(description='Ticker',\n",
    "                                    options=get_tickers(),\n",
    "                                    value = 'F')):\n",
    "    esg_data = web_scraper(ticker)\n",
    "    return esg_data\n"
   ]
  },
  {
   "cell_type": "code",
   "execution_count": null,
   "metadata": {},
   "outputs": [],
   "source": []
  }
 ],
 "metadata": {
  "kernelspec": {
   "display_name": "Python 3",
   "language": "python",
   "name": "python3"
  },
  "language_info": {
   "codemirror_mode": {
    "name": "ipython",
    "version": 3
   },
   "file_extension": ".py",
   "mimetype": "text/x-python",
   "name": "python",
   "nbconvert_exporter": "python",
   "pygments_lexer": "ipython3",
   "version": "3.8.3"
  }
 },
 "nbformat": 4,
 "nbformat_minor": 4
}
