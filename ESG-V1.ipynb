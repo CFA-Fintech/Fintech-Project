{
 "cells": [
  {
   "cell_type": "code",
   "execution_count": 3,
   "metadata": {},
   "outputs": [],
   "source": [
    "import bs4\n",
    "import pandas as pd\n",
    "import requests\n",
    "import ipywidgets as widgets\n",
    "from ipywidgets import interact"
   ]
  },
  {
   "cell_type": "code",
   "execution_count": 4,
   "metadata": {},
   "outputs": [
    {
     "ename": "SyntaxError",
     "evalue": "invalid syntax (<ipython-input-4-90657a994d5d>, line 9)",
     "output_type": "error",
     "traceback": [
      "\u001b[1;36m  File \u001b[1;32m\"<ipython-input-4-90657a994d5d>\"\u001b[1;36m, line \u001b[1;32m9\u001b[0m\n\u001b[1;33m    <div class=\"Fz(36px) Fw(600) D(ib) Mend(5px)\" data-reactid=\"20\">16</div>\u001b[0m\n\u001b[1;37m    ^\u001b[0m\n\u001b[1;31mSyntaxError\u001b[0m\u001b[1;31m:\u001b[0m invalid syntax\n"
     ]
    }
   ],
   "source": [
    "try:\n",
    "    web_data = requests.get('https://finance.yahoo.com/quote/MSFT/sustainability?p=MSFT').text\n",
    "    print(\"Success\")\n",
    "except:\n",
    "    print(\"Could not get URL\")\n",
    "soup = Beatifulsoap(web_data, 'html.parser')\n",
    "esg_score = soup.find('div', {'class':'Fz(36px) Fw(600) D(ib) Mend(5px)'})\n",
    "print(esg_score)\n",
    "<div class=\"Fz(36px) Fw(600) D(ib) Mend(5px)\" data-reactid=\"20\">16</div>\n",
    "\n",
    "datapoint = esg_score.text\n",
    "datapoint\n",
    "'15'\n",
    "\n",
    "elements =[]\n",
    "scores = soup.find_all('div', {'class': 'D(ib) Fz(23px) smartphone Fz/(22px) Fw(600)'})\n",
    "for score in scores:\n",
    "    elements.append(score.text)\n",
    "\n",
    "elements\n",
    "['0.4', '9.9', '5.2']\n",
    "\n",
    "controversy_score = soup.find('div', {'class':'D(ib) Fz(36px) Fw(500)'})\n",
    "controversy_datapoint = controversy_score.text"
   ]
  },
  {
   "cell_type": "code",
   "execution_count": null,
   "metadata": {},
   "outputs": [],
   "source": [
    "df = pd.DataFrame({'Total ESG Score': datapoint,\n",
    "                   'Environment Score': elements[0],\n",
    "                   'Social Score': elements[1],\n",
    "           'Governance Score': elements[2],\n",
    "           'Controversy Score': controversy_datapoint},\n",
    "        index=['MSFT'])\n",
    "df\n",
    "\n",
    "def get_tickers():\n",
    "    wiki_page = requests.get('https://en.wikipedia.org/wiki/List_of_S%26P_500_companies').text\n",
    "    sp_data = pd.read_html(wiki_page)\n",
    "    ticker_df = sp_data[0]\n",
    "    ticker_options = ticker_df['Symbol']\n",
    "    return ticker_options"
   ]
  },
  {
   "cell_type": "code",
   "execution_count": null,
   "metadata": {},
   "outputs": [],
   "source": [
    "def get_tickers():\n",
    "    wiki_page = requests.get('https://en.wikipedia.org/wiki/List_of_S%26P_500_companies').text\n",
    "    sp_data = pd.read_html(wiki_page)\n",
    "    ticker_df = sp_data[0]\n",
    "    ticker_options = ticker_df['Symbol']\n",
    "    return ticker_options\n",
    "\n",
    "def web_scraper(ticker):\n",
    "    elements = []\n",
    "    web_data = requests.get('https://finance.yahoo.com/quote/'+ticker+'/sustainability?p='+ticker).text\n",
    "    soup = BeautifulSoup(web_data, 'html.parser')\n",
    "    esg_score = soup.find('div', {'class':'Fz(36px) Fw(600) D(ib) Mend(5px)'})\n",
    "    datapoint = esg_score.text\n",
    "    controversy_score = soup.find('div', {'class':'D(ib) Fz(36px) Fw(500)'})\n",
    "    controversyz_datapoint = controversy_score.text\n",
    "    scores = soup.find_all('div'{'class': 'D(ib) Fz(23px) smartphone_Fz(22px) Fw(600)'})\n",
    "        for score in scores:\n",
    "        elements.append(score.text)\n",
    "    \n",
    "    df = pd.DataFrame({'Total ESG Score': datapoint,\n",
    "                   'Environment Score': elements[0],\n",
    "                   'Social Score': elements[1],\n",
    "          'Governance Score': elements[2],\n",
    "           'Controversy Score': controversy_datapoint},\n",
    "        index=[ticker])\n",
    "    df = df.astype('float')\t\n",
    "    df['Controversy Assessment'] = df.apply(lambda x: level(x['Controversy Score']), axis=1)\n",
    "    return df"
   ]
  },
  {
   "cell_type": "code",
   "execution_count": null,
   "metadata": {},
   "outputs": [],
   "source": [
    "def level(x):\n",
    "    if x == 0.0:\n",
    "        return 'No Controversy'\n",
    "    elif x == 1.0:\n",
    "        return 'Little Controversy'\n",
    "    elif x == 2.0:\n",
    "        return 'Relatively High Controversy'\n",
    "    else: \n",
    "        return 'Severe Controversy'\n",
    "\n",
    "@interact\n",
    "def get_esg(ticker=widgets.Dropdown(description='Ticker',\n",
    "                    options=get_tickers(),\n",
    "                    value = 'F')):\n",
    "    esg_data = web_scraper(ticker)\n",
    "    return esg_data"
   ]
  }
 ],
 "metadata": {
  "kernelspec": {
   "display_name": "Python 3",
   "language": "python",
   "name": "python3"
  },
  "language_info": {
   "codemirror_mode": {
    "name": "ipython",
    "version": 3
   },
   "file_extension": ".py",
   "mimetype": "text/x-python",
   "name": "python",
   "nbconvert_exporter": "python",
   "pygments_lexer": "ipython3",
   "version": "3.7.7"
  }
 },
 "nbformat": 4,
 "nbformat_minor": 4
}
