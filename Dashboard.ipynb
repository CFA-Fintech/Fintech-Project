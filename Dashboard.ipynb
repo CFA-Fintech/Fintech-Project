{
 "cells": [
  {
<<<<<<< HEAD
   "cell_type": "markdown",
   "metadata": {},
   "source": [
    "# Dashboard"
   ]
  },
  {
=======
>>>>>>> 677a79027b5936cdffd65d847dbc3157964d5057
   "cell_type": "code",
   "execution_count": 1,
   "metadata": {},
   "outputs": [],
   "source": [
    "#import packages \n",
    "from datetime import datetime \n",
    "from iexfinance.stocks import get_historical_data \n",
    "import pandas as pd \n",
    "import streamlit as st \n",
    "import plotly.express as px \n",
    "import plotly.graph_objects as go \n",
    "import yfinance as yf \n",
    "from plotly.subplots import make_subplots"
   ]
  },
  {
   "cell_type": "code",
   "execution_count": 2,
   "metadata": {},
   "outputs": [
    {
     "ename": "SyntaxError",
     "evalue": "invalid syntax (<ipython-input-2-825667046564>, line 2)",
     "output_type": "error",
     "traceback": [
      "\u001b[1;36m  File \u001b[1;32m\"<ipython-input-2-825667046564>\"\u001b[1;36m, line \u001b[1;32m2\u001b[0m\n\u001b[1;33m    start = datetime(2019, 1, 1) end = datetime.today()\u001b[0m\n\u001b[1;37m                                 ^\u001b[0m\n\u001b[1;31mSyntaxError\u001b[0m\u001b[1;31m:\u001b[0m invalid syntax\n"
     ]
    }
   ],
   "source": [
    "#create date range \n",
    "start = datetime(2019, 1, 1) end = datetime.today() \n",
    "#get ticker data \n",
    "ticker_df = pd.read_csv('ticker_data.csv') \n",
<<<<<<< HEAD
    "tickers = ticker_df.Symbol.values.tolist()\n"
=======
    "tickers = ticker_df.Symbol.values.tolist()"
>>>>>>> 677a79027b5936cdffd65d847dbc3157964d5057
   ]
  },
  {
   "cell_type": "code",
   "execution_count": 3,
   "metadata": {},
   "outputs": [],
   "source": [
    "#create title for dashboard \n",
    "st.title('Finance Portal') \n",
    "\n",
    "#create sidebar with options\n",
<<<<<<< HEAD
    "sidebar = st.sidebar.selectbox('Select an Option',['Stocks', 'Crypto','Fixed Income'])\n"
=======
    "sidebar = st.sidebar.selectbox('Select an Option',['Stocks', 'Crypto','Fixed Income'])"
>>>>>>> 677a79027b5936cdffd65d847dbc3157964d5057
   ]
  },
  {
   "cell_type": "code",
   "execution_count": null,
   "metadata": {},
   "outputs": [],
   "source": [
    "#change directories, if needed cd your directory \n",
    "#Activate your dashboard \n",
    "streamlit run finance_dashboard.py"
   ]
  },
  {
   "cell_type": "code",
   "execution_count": null,
   "metadata": {},
   "outputs": [],
   "source": [
    "if sidebar == 'Stocks': \n",
    "   exchange = st.radio('select an exchange or Ticker', ['S&P 500', 'Nasdaq', 'Search by Ticker']) \n",
    "   if exchange == 'S&P 500': \n",
    "      dropdown = st.selectbox('Select a Ticker', tickers) \n",
    "      df = get_historical_data( dropdown, start, end, output_format='pandas', token='YOUR API key') \n",
<<<<<<< HEAD
    "      fig = px.line(df, x=df.index, y=df.close, title=str(dropdown)+' 2019 Performance')\n"
=======
    "      fig = px.line(df, x=df.index, y=df.close, title=str(dropdown)+' 2019 Performance')"
>>>>>>> 677a79027b5936cdffd65d847dbc3157964d5057
   ]
  },
  {
   "cell_type": "code",
   "execution_count": null,
   "metadata": {},
   "outputs": [],
   "source": [
    "first_value = df.close.iloc[0] \n",
    "last_value = df.close.iloc[-1] \n",
    "change = (last_value - first_value)/first_value \n",
    "if change > 0: \n",
    "   st.write(\"This stock was up {:.2f}\".format(change)+ '%') \n",
    "elif change < 0: \n",
    "   st.write(\"This stock was down {:.2f}\".format(change)+ '%')"
   ]
  },
  {
   "cell_type": "code",
   "execution_count": null,
   "metadata": {},
   "outputs": [],
   "source": [
    "#create subheader \n",
    "st.subheader('Did Your Stock Beat the market?') \n",
    "#get S&P 500 data \n",
    "df2 = yf.download('%5EGSPC', start=start, end=end)"
   ]
  },
  {
   "cell_type": "code",
   "execution_count": null,
   "metadata": {},
   "outputs": [],
   "source": [
    "#first observation sp_perf_1 = df2.Close.iloc[0] \n",
    "#last observation sp_perf_last = df2.Close.iloc[-1] \n",
    "#calculate % \n",
    "change sp_perf = (sp_perf_last-sp_perf_1)/sp_perf_1 \n",
    "#graph data \n",
    "perf_graph = make_subplots(specs=[[{\"secondary_y\": True}]]) perf_graph.add_trace(go.Scatter(x=df2.index, y=df2.Close, mode='lines', name='S&P 500'),secondary_y=False) \n",
    "perf_graph.add_trace(go.Scatter(x=df.index, y=df.close, mode='lines', name=dropdown),secondary_y=True) #display graph \n",
    "#display chart\n",
<<<<<<< HEAD
    "st.plotly_chart(perf_graph) #display percentage change st.write(\"S&P's Performance: {:.2f} \".format(sp_perf)) st.write(dropdown + \"'s performance: {:.2f} \".format(change))\n"
   ]
=======
    "st.plotly_chart(perf_graph) #display percentage change st.write(\"S&P's Performance: {:.2f} \".format(sp_perf)) st.write(dropdown + \"'s performance: {:.2f} \".format(change))"
   ]
  },
  {
   "cell_type": "code",
   "execution_count": null,
   "metadata": {},
   "outputs": [],
   "source": []
>>>>>>> 677a79027b5936cdffd65d847dbc3157964d5057
  }
 ],
 "metadata": {
  "kernelspec": {
   "display_name": "Python 3",
   "language": "python",
   "name": "python3"
  },
  "language_info": {
   "codemirror_mode": {
    "name": "ipython",
    "version": 3
   },
   "file_extension": ".py",
   "mimetype": "text/x-python",
   "name": "python",
   "nbconvert_exporter": "python",
   "pygments_lexer": "ipython3",
   "version": "3.8.3"
  }
 },
 "nbformat": 4,
 "nbformat_minor": 4
}
