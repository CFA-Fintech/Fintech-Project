{
 "cells": [
  {
   "cell_type": "code",
<<<<<<< HEAD
   "execution_count": 100,
=======
   "execution_count": 1,
>>>>>>> 94bdf3ca079d7f91c9f0261833cb8820d7c96f97
   "metadata": {},
   "outputs": [],
   "source": [
    "from bs4 import BeautifulSoup\n",
    "import pandas as pd\n",
    "import requests\n",
    "import ipywidgets as widgets\n",
<<<<<<< HEAD
    "from ipywidgets import interact"
=======
    "from ipywidgets import interact\n",
    "\n"
>>>>>>> 94bdf3ca079d7f91c9f0261833cb8820d7c96f97
   ]
  },
  {
   "cell_type": "code",
<<<<<<< HEAD
   "execution_count": 101,
=======
   "execution_count": 2,
>>>>>>> 94bdf3ca079d7f91c9f0261833cb8820d7c96f97
   "metadata": {},
   "outputs": [
    {
     "name": "stdout",
     "output_type": "stream",
     "text": [
      "Success\n",
      "<div class=\"Fz(36px) Fw(600) D(ib) Mend(5px)\" data-reactid=\"20\">15</div>\n"
     ]
    }
   ],
   "source": [
    "try:\n",
<<<<<<< HEAD
    "    web_data = requests.get('https://finance.yahoo.com/quote/MSFT/sustainability?p= MSFT').text\n",
=======
    "    web_data = requests.get('https://finance.yahoo.com/quote/MSFT/sustainability?p=MSFT').text\n",
>>>>>>> 94bdf3ca079d7f91c9f0261833cb8820d7c96f97
    "    print(\"Success\")\n",
    "except:\n",
    "    print(\"Could not get URL\")\n",
    "soup = BeautifulSoup(web_data, 'html.parser')\n",
    "esg_score = soup.find('div', {'class':'Fz(36px) Fw(600) D(ib) Mend(5px)'})\n",
    "print(esg_score)\n",
    "#print(web_data)"
   ]
  },
  {
   "cell_type": "code",
<<<<<<< HEAD
   "execution_count": 102,
=======
   "execution_count": 3,
>>>>>>> 94bdf3ca079d7f91c9f0261833cb8820d7c96f97
   "metadata": {},
   "outputs": [
    {
     "data": {
      "text/plain": [
       "'15'"
      ]
     },
<<<<<<< HEAD
     "execution_count": 102,
=======
     "execution_count": 3,
>>>>>>> 94bdf3ca079d7f91c9f0261833cb8820d7c96f97
     "metadata": {},
     "output_type": "execute_result"
    }
   ],
   "source": [
    "datapoint = esg_score.text\n",
    "datapoint"
   ]
  },
  {
   "cell_type": "code",
<<<<<<< HEAD
   "execution_count": 103,
=======
   "execution_count": 4,
>>>>>>> 94bdf3ca079d7f91c9f0261833cb8820d7c96f97
   "metadata": {},
   "outputs": [
    {
     "data": {
      "text/plain": [
       "['0.5', '9.4', '5.1']"
      ]
     },
<<<<<<< HEAD
     "execution_count": 103,
=======
     "execution_count": 4,
>>>>>>> 94bdf3ca079d7f91c9f0261833cb8820d7c96f97
     "metadata": {},
     "output_type": "execute_result"
    }
   ],
   "source": [
    "elements =[]\n",
    "scores = soup.find_all('div', {'class': 'D(ib) Fz(23px) smartphone_Fz(22px) Fw(600)'})\n",
    "for score in scores:\n",
    "    elements.append(score.text)\n",
    "elements"
   ]
  },
  {
   "cell_type": "code",
<<<<<<< HEAD
   "execution_count": 104,
=======
   "execution_count": 5,
>>>>>>> 94bdf3ca079d7f91c9f0261833cb8820d7c96f97
   "metadata": {},
   "outputs": [],
   "source": [
    "controversy_score = soup.find('div', {'class':'D(ib) Fz(36px) Fw(500)'})\n",
<<<<<<< HEAD
    "controversy_datapoint = controversy_score.text"
=======
    "controversy_datapoint = controversy_score.text\n"
>>>>>>> 94bdf3ca079d7f91c9f0261833cb8820d7c96f97
   ]
  },
  {
   "cell_type": "code",
<<<<<<< HEAD
   "execution_count": 105,
=======
   "execution_count": 6,
>>>>>>> 94bdf3ca079d7f91c9f0261833cb8820d7c96f97
   "metadata": {},
   "outputs": [
    {
     "data": {
      "text/html": [
       "<div>\n",
       "<style scoped>\n",
       "    .dataframe tbody tr th:only-of-type {\n",
       "        vertical-align: middle;\n",
       "    }\n",
       "\n",
       "    .dataframe tbody tr th {\n",
       "        vertical-align: top;\n",
       "    }\n",
       "\n",
       "    .dataframe thead th {\n",
       "        text-align: right;\n",
       "    }\n",
       "</style>\n",
       "<table border=\"1\" class=\"dataframe\">\n",
       "  <thead>\n",
       "    <tr style=\"text-align: right;\">\n",
       "      <th></th>\n",
       "      <th>Total ESG Score</th>\n",
       "      <th>Environment Score</th>\n",
       "      <th>Social Score</th>\n",
       "      <th>Governance Score</th>\n",
       "      <th>Controversy Score</th>\n",
       "    </tr>\n",
       "  </thead>\n",
       "  <tbody>\n",
       "    <tr>\n",
       "      <th>MSFT</th>\n",
       "      <td>15</td>\n",
       "      <td>0.5</td>\n",
       "      <td>9.4</td>\n",
       "      <td>5.1</td>\n",
       "      <td>3</td>\n",
       "    </tr>\n",
       "  </tbody>\n",
       "</table>\n",
       "</div>"
      ],
      "text/plain": [
       "     Total ESG Score Environment Score Social Score Governance Score  \\\n",
       "MSFT              15               0.5          9.4              5.1   \n",
       "\n",
       "     Controversy Score  \n",
       "MSFT                 3  "
      ]
     },
<<<<<<< HEAD
     "execution_count": 105,
=======
     "execution_count": 6,
>>>>>>> 94bdf3ca079d7f91c9f0261833cb8820d7c96f97
     "metadata": {},
     "output_type": "execute_result"
    }
   ],
   "source": [
    "df = pd.DataFrame({'Total ESG Score': datapoint,\n",
    "                   'Environment Score': elements[0],\n",
    "                   'Social Score': elements[1],\n",
<<<<<<< HEAD
    "           'Governance Score': elements[2],\n",
    "           'Controversy Score': controversy_datapoint},\n",
    "        index=['MSFT'])\n",
=======
    "                   'Governance Score': elements[2],\n",
    "                   'Controversy Score': controversy_datapoint},\n",
    "                  index=['MSFT'])\n",
>>>>>>> 94bdf3ca079d7f91c9f0261833cb8820d7c96f97
    "df"
   ]
  },
  {
   "cell_type": "code",
<<<<<<< HEAD
   "execution_count": 106,
   "metadata": {},
   "outputs": [],
   "source": [
    "df\n",
    "\n",
=======
   "execution_count": 7,
   "metadata": {},
   "outputs": [],
   "source": [
>>>>>>> 94bdf3ca079d7f91c9f0261833cb8820d7c96f97
    "def get_tickers():\n",
    "    wiki_page = requests.get('https://en.wikipedia.org/wiki/List_of_S%26P_500_companies').text\n",
    "    sp_data = pd.read_html(wiki_page)\n",
    "    ticker_df = sp_data[0]\n",
    "    ticker_options = ticker_df['Symbol']\n",
<<<<<<< HEAD
    "    return ticker_options"
=======
    "    return ticker_options\n"
>>>>>>> 94bdf3ca079d7f91c9f0261833cb8820d7c96f97
   ]
  },
  {
   "cell_type": "code",
<<<<<<< HEAD
   "execution_count": 107,
=======
   "execution_count": 8,
>>>>>>> 94bdf3ca079d7f91c9f0261833cb8820d7c96f97
   "metadata": {},
   "outputs": [],
   "source": [
    "def web_scraper(ticker):\n",
    "    elements = []\n",
    "    web_data = requests.get('https://finance.yahoo.com/quote/'+ticker+'/sustainability?p='+ticker).text\n",
    "    soup = BeautifulSoup(web_data, 'html.parser')\n",
    "    esg_score = soup.find('div', {'class':'Fz(36px) Fw(600) D(ib) Mend(5px)'})\n",
    "    datapoint = esg_score.text\n",
    "    controversy_score = soup.find('div', {'class':'D(ib) Fz(36px) Fw(500)'})\n",
    "    controversyz_datapoint = controversy_score.text\n",
    "    scores = soup.find_all('div',{'class': 'D(ib) Fz(23px) smartphone_Fz(22px) Fw(600)'})\n",
    "    for score in scores:\n",
    "            elements.append(score.text)\n",
<<<<<<< HEAD
    "    \n",
    "    df = pd.DataFrame({'Total ESG Score': datapoint,\n",
    "                   'Environment Score': elements[0],\n",
    "                   'Social Score': elements[1],\n",
    "            'Governance Score': elements[2],\n",
    "       'Controversy Score': controversy_datapoint},\n",
=======
    "            \n",
    "    df = pd.DataFrame({'Total ESG Score': datapoint,\n",
    "                   'Environment Score': elements[0],\n",
    "                   'Social Score': elements[1],\n",
    "                   'Governance Score': elements[2],\n",
    "                   'Controversy Score': controversy_datapoint},\n",
>>>>>>> 94bdf3ca079d7f91c9f0261833cb8820d7c96f97
    "    index=[ticker])\n",
    "    df = df.astype('float')\t\n",
    "    df['Controversy Assessment'] = df.apply(lambda x: level(x['Controversy Score']), axis=1)\n",
    "    return df"
   ]
  },
  {
   "cell_type": "code",
<<<<<<< HEAD
   "execution_count": 108,
=======
   "execution_count": 9,
>>>>>>> 94bdf3ca079d7f91c9f0261833cb8820d7c96f97
   "metadata": {},
   "outputs": [],
   "source": [
    "def level(x):\n",
    "    if x == 0.0:\n",
    "        return 'No Controversy'\n",
    "    elif x == 1.0:\n",
    "        return 'Little Controversy'\n",
    "    elif x == 2.0:\n",
    "        return 'Relatively High Controversy'\n",
    "    else: \n",
<<<<<<< HEAD
    "        return 'Severe Controversy'"
=======
    "        return 'Severe Controversy'\n"
>>>>>>> 94bdf3ca079d7f91c9f0261833cb8820d7c96f97
   ]
  },
  {
   "cell_type": "code",
<<<<<<< HEAD
   "execution_count": 109,
=======
   "execution_count": 10,
>>>>>>> 94bdf3ca079d7f91c9f0261833cb8820d7c96f97
   "metadata": {},
   "outputs": [
    {
     "data": {
      "application/vnd.jupyter.widget-view+json": {
<<<<<<< HEAD
       "model_id": "258f75ea038548fbac99839c959c6d22",
=======
       "model_id": "4f3a9a3fab7a44f9bbffc8b1cb3365fc",
>>>>>>> 94bdf3ca079d7f91c9f0261833cb8820d7c96f97
       "version_major": 2,
       "version_minor": 0
      },
      "text/plain": [
       "interactive(children=(Dropdown(description='Ticker', index=198, options=('MMM', 'ABT', 'ABBV', 'ABMD', 'ACN', …"
      ]
     },
     "metadata": {},
     "output_type": "display_data"
    }
   ],
   "source": [
    "@interact\n",
    "def get_esg(ticker=widgets.Dropdown(description='Ticker',\n",
<<<<<<< HEAD
    "                    options=get_tickers(),\n",
    "                    value = 'F')):\n",
    "    esg_data = web_scraper(ticker)\n",
    "    return esg_data"
=======
    "                                    options=get_tickers(),\n",
    "                                    value = 'F')):\n",
    "    esg_data = web_scraper(ticker)\n",
    "    return esg_data\n"
>>>>>>> 94bdf3ca079d7f91c9f0261833cb8820d7c96f97
   ]
  },
  {
   "cell_type": "code",
   "execution_count": null,
   "metadata": {},
   "outputs": [],
   "source": []
  }
 ],
 "metadata": {
  "kernelspec": {
   "display_name": "Python 3",
   "language": "python",
   "name": "python3"
  },
  "language_info": {
   "codemirror_mode": {
    "name": "ipython",
    "version": 3
   },
   "file_extension": ".py",
   "mimetype": "text/x-python",
   "name": "python",
   "nbconvert_exporter": "python",
   "pygments_lexer": "ipython3",
   "version": "3.8.3"
  }
 },
 "nbformat": 4,
 "nbformat_minor": 4
}
