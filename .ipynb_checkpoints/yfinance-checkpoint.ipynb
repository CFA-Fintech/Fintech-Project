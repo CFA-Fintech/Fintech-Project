{
 "cells": [
  {
   "cell_type": "markdown",
   "metadata": {},
   "source": [
    "### Import yfinance (to retrieve data), pandas (to manipulate it) and os (to collect a list of ticker codes from my directory)"
   ]
  },
  {
   "cell_type": "code",
   "execution_count": 1,
   "metadata": {},
   "outputs": [],
   "source": [
    "# import yfinance, pandas and os\n",
    "import yfinance as yf\n",
    "import pandas as pd\n",
    "import os"
   ]
  },
  {
   "cell_type": "markdown",
   "metadata": {},
   "source": [
    "### Let’s take a look at sustainability scores for The Coca-Cola Company using it’s ticker code “KO”"
   ]
  },
  {
   "cell_type": "code",
   "execution_count": 2,
   "metadata": {},
   "outputs": [
    {
     "data": {
      "text/html": [
       "<div>\n",
       "<style scoped>\n",
       "    .dataframe tbody tr th:only-of-type {\n",
       "        vertical-align: middle;\n",
       "    }\n",
       "\n",
       "    .dataframe tbody tr th {\n",
       "        vertical-align: top;\n",
       "    }\n",
       "\n",
       "    .dataframe thead th {\n",
       "        text-align: right;\n",
       "    }\n",
       "</style>\n",
       "<table border=\"1\" class=\"dataframe\">\n",
       "  <thead>\n",
       "    <tr style=\"text-align: right;\">\n",
       "      <th>2020-10</th>\n",
       "      <th>palmOil</th>\n",
       "      <th>controversialWeapons</th>\n",
       "      <th>gambling</th>\n",
       "      <th>socialScore</th>\n",
       "      <th>nuclear</th>\n",
       "      <th>furLeather</th>\n",
       "      <th>alcoholic</th>\n",
       "      <th>gmo</th>\n",
       "      <th>catholic</th>\n",
       "      <th>socialPercentile</th>\n",
       "      <th>...</th>\n",
       "      <th>coal</th>\n",
       "      <th>pesticides</th>\n",
       "      <th>adult</th>\n",
       "      <th>percentile</th>\n",
       "      <th>peerGroup</th>\n",
       "      <th>smallArms</th>\n",
       "      <th>environmentScore</th>\n",
       "      <th>governancePercentile</th>\n",
       "      <th>militaryContract</th>\n",
       "      <th>Symbol</th>\n",
       "    </tr>\n",
       "  </thead>\n",
       "  <tbody>\n",
       "    <tr>\n",
       "      <th>Value</th>\n",
       "      <td>False</td>\n",
       "      <td>False</td>\n",
       "      <td>False</td>\n",
       "      <td>10.81</td>\n",
       "      <td>False</td>\n",
       "      <td>False</td>\n",
       "      <td>False</td>\n",
       "      <td>False</td>\n",
       "      <td>False</td>\n",
       "      <td>None</td>\n",
       "      <td>...</td>\n",
       "      <td>False</td>\n",
       "      <td>False</td>\n",
       "      <td>False</td>\n",
       "      <td>38.23</td>\n",
       "      <td>Food Products</td>\n",
       "      <td>False</td>\n",
       "      <td>9.2</td>\n",
       "      <td>None</td>\n",
       "      <td>False</td>\n",
       "      <td>KO</td>\n",
       "    </tr>\n",
       "  </tbody>\n",
       "</table>\n",
       "<p>1 rows × 28 columns</p>\n",
       "</div>"
      ],
      "text/plain": [
       "2020-10 palmOil controversialWeapons gambling socialScore nuclear furLeather  \\\n",
       "Value     False                False    False       10.81   False      False   \n",
       "\n",
       "2020-10 alcoholic    gmo catholic socialPercentile  ...   coal pesticides  \\\n",
       "Value       False  False    False             None  ...  False      False   \n",
       "\n",
       "2020-10  adult percentile      peerGroup smallArms environmentScore  \\\n",
       "Value    False      38.23  Food Products     False              9.2   \n",
       "\n",
       "2020-10 governancePercentile militaryContract Symbol  \n",
       "Value                   None            False     KO  \n",
       "\n",
       "[1 rows x 28 columns]"
      ]
     },
     "execution_count": 2,
     "metadata": {},
     "output_type": "execute_result"
    }
   ],
   "source": [
    "cola = \"KO\"\n",
    "cola_y = yf.Ticker(cola)\n",
    "esg_data = pd.DataFrame.transpose(cola_y.sustainability)\n",
    "esg_data['Symbol'] = str(cola_y.ticker)\n",
    "esg_data"
   ]
  },
  {
   "cell_type": "markdown",
   "metadata": {},
   "source": [
    "##### As you might see our dataframe consists of 27 rows covering a whole host of different ESG-relevant information for The Coca-Cola Company"
   ]
  },
  {
   "cell_type": "markdown",
   "metadata": {},
   "source": [
    "### What if we wanted to get the same data for a whole host of different companies?\n",
    "#### How about importing a list of 30 ticker symbols for the Dow Jones Industrial Index (DJIA) from a CSV file and retrieving the sustainability data from Yahoo Finance "
   ]
  },
  {
   "cell_type": "code",
   "execution_count": 3,
   "metadata": {},
   "outputs": [
    {
     "name": "stdout",
     "output_type": "stream",
     "text": [
      "$INDU\n",
      "yfinance.Ticker object <$INDU>\n",
      "AAPL\n",
      "yfinance.Ticker object <AAPL>\n",
      "AXP\n",
      "yfinance.Ticker object <AXP>\n",
      "BA\n",
      "yfinance.Ticker object <BA>\n",
      "CAT\n",
      "yfinance.Ticker object <CAT>\n",
      "CSCO\n",
      "yfinance.Ticker object <CSCO>\n",
      "CVX\n",
      "yfinance.Ticker object <CVX>\n",
      "DD\n",
      "yfinance.Ticker object <DD>\n",
      "DIS\n",
      "yfinance.Ticker object <DIS>\n",
      "GE\n",
      "yfinance.Ticker object <GE>\n",
      "GS\n",
      "yfinance.Ticker object <GS>\n",
      "HD\n",
      "yfinance.Ticker object <HD>\n",
      "IBM\n",
      "yfinance.Ticker object <IBM>\n",
      "INTC\n",
      "yfinance.Ticker object <INTC>\n",
      "JNJ\n",
      "yfinance.Ticker object <JNJ>\n",
      "JPM\n",
      "yfinance.Ticker object <JPM>\n",
      "KO\n",
      "yfinance.Ticker object <KO>\n",
      "MCD\n",
      "yfinance.Ticker object <MCD>\n",
      "MMM\n",
      "yfinance.Ticker object <MMM>\n",
      "MRK\n",
      "yfinance.Ticker object <MRK>\n",
      "MSFT\n",
      "yfinance.Ticker object <MSFT>\n",
      "NKE\n",
      "yfinance.Ticker object <NKE>\n",
      "PFE\n",
      "yfinance.Ticker object <PFE>\n",
      "PG\n",
      "yfinance.Ticker object <PG>\n",
      "TRV\n",
      "yfinance.Ticker object <TRV>\n",
      "UNH\n",
      "yfinance.Ticker object <UNH>\n",
      "UTX\n",
      "yfinance.Ticker object <UTX>\n",
      "V\n",
      "yfinance.Ticker object <V>\n",
      "VZ\n",
      "yfinance.Ticker object <VZ>\n",
      "WMT\n",
      "yfinance.Ticker object <WMT>\n",
      "XOM\n",
      "yfinance.Ticker object <XOM>\n"
     ]
    }
   ],
   "source": [
    "# Import list of tickers from file\n",
    "djia = pd.read_csv('../Resources/INDU_Q.csv')\n",
    "# Retrieve Yahoo! Finance Sustainability Scores for each ticker\n",
    "for i in djia['Symbol']:\n",
    "    print(i)\n",
    "    i_y = yf.Ticker(i)\n",
    "    print(i_y)\n",
    "try:\n",
    "    if i_y.sustainability is not None:\n",
    "        temp = pd.DataFrame.transpose(i_y.sustainability)\n",
    "        temp['Symbol'] = str(i_y.ticker)\n",
    "        #print(temp)\n",
    "        esg_data = esg_data.append(temp)\n",
    "except IndexError:\n",
    "            pass\n"
   ]
  },
  {
   "cell_type": "code",
   "execution_count": 4,
   "metadata": {},
   "outputs": [
    {
     "data": {
      "text/plain": [
       "0    $INDU\n",
       "1     AAPL\n",
       "2      AXP\n",
       "3       BA\n",
       "4      CAT\n",
       "Name: Symbol, dtype: object"
      ]
     },
     "execution_count": 4,
     "metadata": {},
     "output_type": "execute_result"
    }
   ],
   "source": [
    "djia['Symbol'].head()"
   ]
  },
  {
   "cell_type": "code",
   "execution_count": 5,
   "metadata": {},
   "outputs": [],
   "source": [
    "esg_data.to_csv('djia_sustainability_scores.csv', encoding='utf-8')"
   ]
  },
  {
   "cell_type": "code",
   "execution_count": null,
   "metadata": {},
   "outputs": [],
   "source": []
  }
 ],
 "metadata": {
  "kernelspec": {
   "display_name": "Python 3",
   "language": "python",
   "name": "python3"
  },
  "language_info": {
   "codemirror_mode": {
    "name": "ipython",
    "version": 3
   },
   "file_extension": ".py",
   "mimetype": "text/x-python",
   "name": "python",
   "nbconvert_exporter": "python",
   "pygments_lexer": "ipython3",
   "version": "3.8.3"
  }
 },
 "nbformat": 4,
 "nbformat_minor": 4
}
